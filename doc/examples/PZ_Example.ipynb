{
 "cells": [
  {
   "cell_type": "markdown",
   "metadata": {},
   "source": [
    "# Pole-Zero (PZ) simulation example"
   ]
  },
  {
   "cell_type": "markdown",
   "metadata": {},
   "source": [
    "In this short example we will simulate a simple [RLC circuit](https://en.wikipedia.org/wiki/RLC_circuit) with the [ahkab](https://ahkab.github.io/ahkab/) simulator.\n",
    "\n",
    "In particular, we consider a series resonant RLC circuit. If you need to refresh your knowledge on 2nd filters, you may [take a look at this page](http://hyperphysics.phy-astr.gsu.edu/hbase/electric/serres.html).\n",
    "\n",
    "## The plan: what we'll do\n",
    "\n",
    "### 0. A brief analysis of the circuit\n",
    "\n",
    "This should be done with pen and paper, we'll just mention the results. The circuit is pretty simple, feel free to skip if you find it boring.\n",
    "\n",
    "### 1. How to describe the circuit with ahkab\n",
    "\n",
    "We'll show this:\n",
    "\n",
    "* from Python,\n",
    "* and briefly with a netlist deck.\n",
    "\n",
    "### 2. Pole-zero analysis\n",
    "\n",
    "* We will extract poles and zeros.\n",
    "* We'll use them to build input-output transfer function, which we evaluate.\n",
    "\n",
    "### 3. AC analysis\n",
    "\n",
    "* We will run an AC analysis to evaluate numerically the transfer function.\n",
    "\n",
    "### 4. Symbolic analysis\n",
    "\n",
    "* We'll finally run a symbolic analysis as well.\n",
    "* Once we have the results, we'll substitute for the real circuit values and verify both AC and PZ analysis.\n",
    "\n",
    "### 5. Conclusions\n",
    "\n",
    "We will check that the three PZ, AC and Symbolic analysis match!"
   ]
  },
  {
   "cell_type": "markdown",
   "metadata": {},
   "source": [
    "## The circuit\n",
    "\n",
    "The circuit we simulate is a very simple one:\n",
    "\n",
    "INSERT\n",
    "\n",
    "## 0. Theory\n",
    "\n",
    "Once one proves that the current flowing in the only circuit branch in the Laplace domain is given by:\n",
    "\n",
    "$$I(s) = \\frac{1}{L}\\cdot\\frac{s}{s^2 + 2\\alpha\\cdot s + \\omega_0^2}$$\n",
    "\n",
    "Where:\n",
    "\n",
    "* $s$ is the Laplace varible, $s = \\sigma + j \\omega$:\n",
    "    * $j$ is the imaginary unit,\n",
    "    * $\\omega$ is the angular frequency (units rad/s).\n",
    "* $\\alpha$ is known as the *Neper frequency* and it is given by $R/(2L)$,\n",
    "* $\\omega_0$ is the *(undamped) resonance frequency, equal to $(\\sqrt{LC})^{-1}$.\n",
    "\n",
    "It's easy to show that the pass-band transfer function we consider in our circuit, $V_{OUT}/V_{IN}$, has the expression:\n",
    "\n",
    "$$H(s) = \\frac{V_{OUT}}{V_{IN}}(s) = k_0 \\cdot\\frac{s}{s^2 + 2\\alpha\\cdot s + \\omega_0^2}$$\n",
    "\n",
    "Where the coeffiecient $k_0$ has value $k_0 = R/L$.\n",
    "\n",
    "Solving for poles and zeros, we get:\n",
    "\n",
    "* One zero:\n",
    "    * $z_0$, located in the origin.\n",
    "* Two poles, $p_0$ and $p_1$:\n",
    "    * $p_{0,1} = - \\alpha \\pm \\sqrt{\\alpha^2 - \\omega_0^2}$\n",
    "\n",
    "## 1. Describe the circuit with ahkab\n",
    "\n",
    "Let's call `ahkab` and describe the circuit above.\n",
    "\n",
    "First we need to import `ahkab`:"
   ]
  },
  {
   "cell_type": "code",
   "execution_count": 1,
   "metadata": {
    "collapsed": false
   },
   "outputs": [
    {
     "name": "stdout",
     "output_type": "stream",
     "text": [
      "Populating the interactive namespace from numpy and matplotlib\n"
     ]
    }
   ],
   "source": [
    "%pylab inline\n",
    "figsize = (10, 7)\n",
    "# libraries we need\n",
    "import ahkab"
   ]
  },
  {
   "cell_type": "code",
   "execution_count": 2,
   "metadata": {
    "collapsed": false
   },
   "outputs": [
    {
     "name": "stdout",
     "output_type": "stream",
     "text": [
      "We're using ahkab 0.16\n"
     ]
    }
   ],
   "source": [
    "print \"We're using ahkab %s\" % ahkab.__version__"
   ]
  },
  {
   "cell_type": "markdown",
   "metadata": {},
   "source": [
    "Then we create a new circuit object titled 'RLC bandpass', which we name `bpf` from Band-Pass Filter:"
   ]
  },
  {
   "cell_type": "code",
   "execution_count": 3,
   "metadata": {
    "collapsed": true
   },
   "outputs": [],
   "source": [
    "bpf = ahkab.Circuit('RLC bandpass')"
   ]
  },
  {
   "cell_type": "markdown",
   "metadata": {},
   "source": [
    "A circuit is made of, internally, components and nodes. For now, our `bpf` circuit is empty and really of not much use.\n",
    "\n",
    "We wish to define our nodes, our components, specifying their connection to the appropriate nodes and inform the circuit instance about the what we did.\n",
    "\n",
    "It sounds complicated, but it is actually very simple, also thanks to the convenience functions `add_*()` in the `Circuit` instances ([circuit documentation](https://ahkab.readthedocs.org/en/latest/circuit.html)).\n",
    "\n",
    "We now add the inductor `L1`, the capacitor `C1`, the resistor `R1` and the input source `V1`:"
   ]
  },
  {
   "cell_type": "code",
   "execution_count": 4,
   "metadata": {
    "collapsed": false
   },
   "outputs": [],
   "source": [
    "bpf = ahkab.Circuit('RLC bandpass')\n",
    "bpf.add_inductor('L1', 'in', 'n1', 1e-6)\n",
    "bpf.add_capacitor('C1', 'n1', 'out', 2.2e-12)\n",
    "bpf.add_resistor('R1', 'out', bpf.gnd, 13)\n",
    "# we also give V1 an AC value since we wish to run an AC simulation\n",
    "# in the following\n",
    "bpf.add_vsource('V1', 'in', bpf.gnd, dc_value=1, ac_value=1)"
   ]
  },
  {
   "cell_type": "markdown",
   "metadata": {},
   "source": [
    "Notice that:\n",
    "* the nodes to which they get connected (`'in'`, `'n1'`, `'out'`...) are nothing but strings. If you prefer handles, you can call the `create_node()` method of the circuit instance `bpf` ([create_node documentation](https://ahkab.readthedocs.org/en/latest/circuit.html#ahkab.circuit.Circuit.create_node).\n",
    "* Using the convenience methods `add_*`, the nodes are not explicitely added to the circuit, but they are in fact automatically taken care of behind the hood."
   ]
  },
  {
   "cell_type": "markdown",
   "metadata": {},
   "source": [
    "Now we have successfully defined our circuit object `bpf`.\n",
    "\n",
    "Let's see what's in there and generate a netlist:"
   ]
  },
  {
   "cell_type": "code",
   "execution_count": 5,
   "metadata": {
    "collapsed": false
   },
   "outputs": [
    {
     "name": "stdout",
     "output_type": "stream",
     "text": [
      "* RLC bandpass\n",
      "L1 in n1 1e-06\n",
      "C1 n1 out 2.2e-12\n",
      "R1 out 0 13\n",
      "V1 in 0 type=vdc value=1 vac=1 \n"
     ]
    }
   ],
   "source": [
    "print(bpf)"
   ]
  },
  {
   "cell_type": "markdown",
   "metadata": {},
   "source": [
    "The above text defines the same circuit in netlist form. It has the advantage that it's a very coincise piece of text and that the syntax resembles (not perfectly yet) that of simulators such as [SPICE](https://newton.ex.ac.uk/teaching/CDHW/Electronics2/userguide/).\n",
    "\n",
    "If you prefer to run `ahkab` from the command line, be sure to check the [Netlist syntax doc page](https://ahkab.readthedocs.org/en/latest/help/Netlist-Syntax.html) and to add the simulation statements, which are missing above."
   ]
  },
  {
   "cell_type": "markdown",
   "metadata": {},
   "source": [
    "## 2. PZ analysis\n",
    "\n",
    "The analysis is set up easily by calling `ahkab.new_pz()`. Its signature is:\n",
    "\n",
    "    ahkab.new_pz(input_source=None, output_port=None, shift=0.0, MNA=None, outfile=None, x0=u'op', verbose=0)\n",
    "    \n",
    "And you can find [the documentation for ahkab.new_pz here](https://ahkab.readthedocs.org/en/latest/ahkab.html#ahkab.ahkab.new_pz).\n",
    "    \n",
    "We will set:\n",
    "* Input source and output port, to enable the extraction of the zeros.\n",
    "    * the input source is `V1`,\n",
    "    * the output port is defined between the output node `out` and ground node (`bpf.gnd`).\n",
    "* We need no linearization, since the circuit is linear. Therefore we set `x0` to `None`.\n",
    "* I inserted a non-zero shift in the initial calculation frequency below. You may want to fiddle a bit with this value, the algorithm internally tries to kick the working frequency away from the exact location of the zeros, since we expect a zero in the origin, we help the simulation find the zero quickly by shifting away the initial working point."
   ]
  },
  {
   "cell_type": "code",
   "execution_count": 6,
   "metadata": {
    "collapsed": false
   },
   "outputs": [],
   "source": [
    "pza = ahkab.new_pz('V1', ('out', bpf.gnd), x0=None, shift=1e3)\n",
    "r = ahkab.run(bpf, pza)['pz']"
   ]
  },
  {
   "cell_type": "markdown",
   "metadata": {},
   "source": [
    "The results are in the `pz_solution` object `r`. It has an interface that works like a dictionary.\n",
    "\n",
    "Eg. you can do:"
   ]
  },
  {
   "cell_type": "code",
   "execution_count": 7,
   "metadata": {
    "collapsed": false
   },
   "outputs": [
    {
     "data": {
      "text/plain": [
       "[u'p0', u'p1', u'z0']"
      ]
     },
     "execution_count": 7,
     "metadata": {},
     "output_type": "execute_result"
    }
   ],
   "source": [
    "r.keys()"
   ]
  },
  {
   "cell_type": "markdown",
   "metadata": {},
   "source": [
    "Check out the [documentation on pz_solution for more](https://ahkab.readthedocs.org/en/latest/results.html#ahkab.results.pz_solution).\n",
    "\n",
    "Let's see what we got:"
   ]
  },
  {
   "cell_type": "code",
   "execution_count": 8,
   "metadata": {
    "collapsed": false
   },
   "outputs": [
    {
     "name": "stdout",
     "output_type": "stream",
     "text": [
      "Singularities:\n",
      "* p0 = -1.03451e+06 -1.07297e+08j Hz\n",
      "* p1 = -1.03451e+06 +1.07297e+08j Hz\n",
      "* z0 = -1.44751e-13 +0j Hz\n"
     ]
    }
   ],
   "source": [
    "print('Singularities:')\n",
    "for x, _ in r:\n",
    "    print \"* %s = %+g %+gj Hz\" % (x, np.real(r[x]), np.imag(r[x]))"
   ]
  },
  {
   "cell_type": "markdown",
   "metadata": {},
   "source": [
    "**Note that the results are frequencies expressed in Hz** (and *not* angular frequencies in rad/s).\n",
    "\n",
    "Graphically, we can see better where the singularities are located:"
   ]
  },
  {
   "cell_type": "code",
   "execution_count": 9,
   "metadata": {
    "collapsed": false
   },
   "outputs": [
    {
     "data": {
      "image/png": "[encoded data removed]",
      "text/plain": [
       "<matplotlib.figure.Figure at 0x10d65e490>"
      ]
     },
     "metadata": {},
     "output_type": "display_data"
    }
   ],
   "source": [
    "figure(figsize=figsize)\n",
    "# plot o's for zeros and x's for poles\n",
    "for x, v in r:\n",
    "    plot(np.real(v), np.imag(v), 'bo'*(x[0]=='z')+'rx'*(x[0]=='p'))\n",
    "# set axis limits and print some thin axes\n",
    "xm = 1e6\n",
    "xlim(-xm*10., xm*10.)\n",
    "plot(xlim(), [0,0], 'k', alpha=.5, lw=.5)\n",
    "plot([0,0], ylim(), 'k', alpha=.5, lw=.5)\n",
    "# plot the distance from the origin of p0 and p1\n",
    "plot([np.real(r['p0']), 0], [np.imag(r['p0']), 0], 'k--', alpha=.5)\n",
    "plot([np.real(r['p1']), 0], [np.imag(r['p1']), 0], 'k--', alpha=.5)\n",
    "# print the distance between p0 and p1\n",
    "plot([np.real(r['p1']), np.real(r['p0'])], [np.imag(r['p1']), np.imag(r['p0'])], 'k-', alpha=.5, lw=.5)\n",
    "# label the singularities\n",
    "text(np.real(r['p1']), np.imag(r['p1'])*1.1, '$p_1$', ha='center', fontsize=20)\n",
    "text(.4e6, .4e7, '$z_0$', ha='center', fontsize=20)\n",
    "text(np.real(r['p0']), np.imag(r['p0'])*1.2, '$p_0$', ha='center', va='bottom', fontsize=20)\n",
    "xlabel('Real [Hz]'); ylabel('Imag [Hz]'); title('Singularities');"
   ]
  },
  {
   "cell_type": "markdown",
   "metadata": {},
   "source": [
    "As expected, we got two complex conjugate poles and a zero in the origin.\n",
    "\n",
    "#### The resonance frequency\n",
    "\n",
    "Let's check that indeed the (undamped) resonance frequency $f_0$ has the expected value from the theory.\n",
    "\n",
    "It should be:\n",
    "\n",
    "$$f_0 = \\frac{1}{2\\pi\\sqrt{LC}}$$\n",
    "\n",
    "Since we have little damping, $f_0$ is very close to the damped resonant frequency in our circuit, given by the absolute value of the imaginary part of either $p_0$ or $p_1$.\n",
    "\n",
    "In fact, the damped resonant frequency $f_d$ is given by:\n",
    "\n",
    "$$f_d = \\frac{1}{2\\pi}\\sqrt{\\alpha^2 -w_0^2}$$\n",
    "\n",
    "Since this is an example and we have Python at our fingertips, we'll compensate for the frequency pulling due to the damping anyway. That way, the example is analytically correct."
   ]
  },
  {
   "cell_type": "code",
   "execution_count": 10,
   "metadata": {
    "collapsed": false
   },
   "outputs": [
    {
     "name": "stdout",
     "output_type": "stream",
     "text": [
      "Resonance frequency from analytic calculations: 1.07302e+08 Hz\n"
     ]
    }
   ],
   "source": [
    "C = 2.2e-12\n",
    "L = 1e-6\n",
    "f0 = 1./(2*np.pi*np.sqrt(L*C))\n",
    "print 'Resonance frequency from analytic calculations: %g Hz' %f0"
   ]
  },
  {
   "cell_type": "code",
   "execution_count": 11,
   "metadata": {
    "collapsed": false
   },
   "outputs": [
    {
     "name": "stdout",
     "output_type": "stream",
     "text": [
      "Resonance frequency from PZ analysis: 1.07292e+08 Hz\n"
     ]
    }
   ],
   "source": [
    "alpha = (-r['p0']-r['p1'])/2\n",
    "a1 = np.real(abs(r['p0'] - r['p1']))/2\n",
    "f0 = np.sqrt(a1**2 - alpha**2)\n",
    "f0 = np.real_if_close(f0)\n",
    "print 'Resonance frequency from PZ analysis: %g Hz' %f0"
   ]
  },
  {
   "cell_type": "markdown",
   "metadata": {},
   "source": [
    "That's alright.\n",
    "\n",
    "## 3. AC analysis\n",
    "\n",
    "Let's perform an AC analysis:"
   ]
  },
  {
   "cell_type": "code",
   "execution_count": 12,
   "metadata": {
    "collapsed": false
   },
   "outputs": [],
   "source": [
    "aca = ahkab.new_ac(start=1e8, stop=5e9, points=5e2, x0=None)\n",
    "rac = ahkab.run(bpf, aca)['ac']"
   ]
  },
  {
   "cell_type": "markdown",
   "metadata": {},
   "source": [
    "Next, we use sympy to assemble the transfer functions from the singularities we got from the PZ analysis."
   ]
  },
  {
   "cell_type": "code",
   "execution_count": 13,
   "metadata": {
    "collapsed": false
   },
   "outputs": [],
   "source": [
    "import sympy\n",
    "sympy.init_printing()"
   ]
  },
  {
   "cell_type": "code",
   "execution_count": 14,
   "metadata": {
    "collapsed": false
   },
   "outputs": [],
   "source": [
    "from sympy.abc import w\n",
    "from sympy import I\n",
    "p0, p1, z0 = sympy.symbols('p0, p1, z0')\n",
    "k = 13/1e-6 # constant term, can be calculated to be R/L\n",
    "H = 13/1e-6*(I*w + z0*6.28)/(I*w +p0*6.28)/(I*w + p1*6.28)"
   ]
  },
  {
   "cell_type": "code",
   "execution_count": 15,
   "metadata": {
    "collapsed": false
   },
   "outputs": [],
   "source": [
    "Hl = sympy.lambdify(w, H.subs({p0:r['p0'], z0:abs(r['z0']), p1:r['p1']}))"
   ]
  },
  {
   "cell_type": "markdown",
   "metadata": {},
   "source": [
    "We need a function to evaluate the absolute value of a transfer function in decibels.\n",
    "\n",
    "Here it is:"
   ]
  },
  {
   "cell_type": "code",
   "execution_count": 16,
   "metadata": {
    "collapsed": false
   },
   "outputs": [],
   "source": [
    "def dB20(x):\n",
    "    return 20*np.log10(x)"
   ]
  },
  {
   "cell_type": "markdown",
   "metadata": {},
   "source": [
    "Next we can plot $|H(\\omega)|$ in dB and inspect the results visually."
   ]
  },
  {
   "cell_type": "code",
   "execution_count": 33,
   "metadata": {
    "collapsed": false
   },
   "outputs": [
    {
     "data": {
      "image/png": "[encoded data removed]",
      "text/plain": [
       "<matplotlib.figure.Figure at 0x10ed9b410>"
      ]
     },
     "metadata": {},
     "output_type": "display_data"
    }
   ],
   "source": [
    "figure(figsize=figsize)\n",
    "semilogx(rac.get_x()/2/np.pi, dB20(abs(rac['vout'])), label='TF from AC analysis')\n",
    "semilogx(rac.get_x()/2/np.pi, dB20(abs(Hl(rac.get_x()))), 'o', ms=4, label='TF from PZ analysis')\n",
    "legend(); xlabel('Frequency [Hz]'); ylabel('|H(w)| [dB]'); xlim(4e7, 3e8); ylim(-50, 1);"
   ]
  },
  {
   "cell_type": "markdown",
   "metadata": {
    "collapsed": false
   },
   "source": [
    "## 4. Symbolic analysis\n",
    "\n",
    "Next, we setup and run a symbolic analysis. \n",
    "\n",
    "We set the input source to be `'V1'`, in this way, `ahkab` will calculate all transfer functions, together with low-frequency gain, poles and zeros, with respect to *every* variable in the circuit.\n",
    "\n",
    "It is done very similarly to the previous cases:"
   ]
  },
  {
   "cell_type": "code",
   "execution_count": 18,
   "metadata": {
    "collapsed": false
   },
   "outputs": [],
   "source": [
    "symba = ahkab.new_symbolic(source='V1')\n",
    "rs, tfs = ahkab.run(bpf, symba)['symbolic']"
   ]
  },
  {
   "cell_type": "markdown",
   "metadata": {},
   "source": [
    "Notice how to the `'symbolic'` key corresponds a tuple of two objects: the symbolic results and the TF object that was derived from it.\n",
    "\n",
    "Let's inspect their contents:"
   ]
  },
  {
   "cell_type": "code",
   "execution_count": 19,
   "metadata": {
    "collapsed": false
   },
   "outputs": [
    {
     "name": "stdout",
     "output_type": "stream",
     "text": [
      "Symbolic simulation results for 'RLC bandpass' (netlist None).\n",
      "Run on 2015-05-07 04:24:42.\n",
      "I[L1]\t = C1*V1*s/(C1*L1*s**2 + C1*R1*s + 1.0)\n",
      "I[V1]\t = -C1*V1*s/(C1*L1*s**2 + C1*R1*s + 1.0)\n",
      "VIN\t = V1\n",
      "VN1\t = V1*(C1*R1*s + 1.0)/(C1*L1*s**2 + C1*R1*s + 1.0)\n",
      "VOUT\t = C1*R1*V1*s/(C1*L1*s**2 + C1*R1*s + 1.0)\n",
      "\n"
     ]
    }
   ],
   "source": [
    "print(rs)"
   ]
  },
  {
   "cell_type": "code",
   "execution_count": 20,
   "metadata": {
    "collapsed": false
   },
   "outputs": [
    {
     "name": "stdout",
     "output_type": "stream",
     "text": [
      "Symbolic transfer function results for 'RLC bandpass' (netlist None).\n",
      "Run on 2015-05-07 04:24:42.\n",
      "I[L1]/V1:\n",
      "\tgain:\tC1*s/(C1*L1*s**2 + C1*R1*s + 1.0)\n",
      "\tgain0:\t0\n",
      "\tpoles:\n",
      "\t\t0.5*(-C1*R1 + sqrt(C1*(C1*R1**2 - 4.0*L1)))/(C1*L1)\n",
      "\t\t-0.5*(C1*R1 + sqrt(C1*(C1*R1**2 - 4.0*L1)))/(C1*L1)\n",
      "\tzeros:\n",
      "\t\t0\n",
      "I[V1]/V1:\n",
      "\tgain:\t-C1*s/(C1*L1*s**2 + C1*R1*s + 1.0)\n",
      "\tgain0:\t0\n",
      "\tpoles:\n",
      "\t\t0.5*(-C1*R1 + sqrt(C1*(C1*R1**2 - 4.0*L1)))/(C1*L1)\n",
      "\t\t-0.5*(C1*R1 + sqrt(C1*(C1*R1**2 - 4.0*L1)))/(C1*L1)\n",
      "\tzeros:\n",
      "\t\t0\n",
      "VIN/V1:\n",
      "\tgain:\t1\n",
      "VN1/V1:\n",
      "\tgain:\t(C1*R1*s + 1.0)/(C1*L1*s**2 + C1*R1*s + 1.0)\n",
      "\tgain0:\t1.00000000000000\n",
      "\tpoles:\n",
      "\t\t0.5*(-C1*R1 + sqrt(C1*(C1*R1**2 - 4.0*L1)))/(C1*L1)\n",
      "\t\t-0.5*(C1*R1 + sqrt(C1*(C1*R1**2 - 4.0*L1)))/(C1*L1)\n",
      "\tzeros:\n",
      "\t\t-1/(C1*R1)\n",
      "VOUT/V1:\n",
      "\tgain:\tC1*R1*s/(C1*L1*s**2 + C1*R1*s + 1.0)\n",
      "\tgain0:\t0\n",
      "\tpoles:\n",
      "\t\t0.5*(-C1*R1 + sqrt(C1*(C1*R1**2 - 4.0*L1)))/(C1*L1)\n",
      "\t\t-0.5*(C1*R1 + sqrt(C1*(C1*R1**2 - 4.0*L1)))/(C1*L1)\n",
      "\tzeros:\n",
      "\t\t0\n",
      "\n"
     ]
    }
   ],
   "source": [
    "print tfs"
   ]
  },
  {
   "cell_type": "markdown",
   "metadata": {},
   "source": [
    "In particular, to our transfer function corresponds:"
   ]
  },
  {
   "cell_type": "code",
   "execution_count": 21,
   "metadata": {
    "collapsed": false
   },
   "outputs": [
    {
     "data": {
      "text/plain": [
       "{u'gain': C1*R1*s/(C1*L1*s**2 + C1*R1*s + 1.0),\n",
       " u'gain0': 0,\n",
       " u'poles': [0.5*(-C1*R1 + sqrt(C1*(C1*R1**2 - 4.0*L1)))/(C1*L1),\n",
       "  -0.5*(C1*R1 + sqrt(C1*(C1*R1**2 - 4.0*L1)))/(C1*L1)],\n",
       " u'zeros': [0]}"
      ]
     },
     "execution_count": 21,
     "metadata": {},
     "output_type": "execute_result"
    }
   ],
   "source": [
    "tfs['VOUT/V1']"
   ]
  },
  {
   "cell_type": "markdown",
   "metadata": {},
   "source": [
    "It's easy to show the above entries are a different formulation that corresponds to the theoretical results we introduced at the beginning of this example.\n",
    "\n",
    "We'll do it graphically. First of all, let's isolate out TF:"
   ]
  },
  {
   "cell_type": "code",
   "execution_count": 22,
   "metadata": {
    "collapsed": false
   },
   "outputs": [
    {
     "data": {
      "image/png": "[encoded data removed]",
      "text/latex": [
       "$$\\frac{C_{1} R_{1} s}{C_{1} L_{1} s^{2} + C_{1} R_{1} s + 1.0}$$"
      ],
      "text/plain": [
       "        C₁⋅R₁⋅s         \n",
       "────────────────────────\n",
       "       2                \n",
       "C₁⋅L₁⋅s  + C₁⋅R₁⋅s + 1.0"
      ]
     },
     "execution_count": 22,
     "metadata": {},
     "output_type": "execute_result"
    }
   ],
   "source": [
    "Hs = tfs['VOUT/V1']['gain']\n",
    "Hs"
   ]
  },
  {
   "cell_type": "markdown",
   "metadata": {},
   "source": [
    "We wish to substitute the correct circuit values to `R1`, `L1` and `C1` to be able to evaluate numerically the results.\n",
    "\n",
    "In order to do so, the `symbolic_solution` class in the `results` module has a method named `as_symbols` that takes a string of space-separed symbol names and returns the `sympy` symbols associated with them ([symbolic_solution.as_symbols documentation](https://ahkab.readthedocs.org/en/latest/results.html#ahkab.results.symbolic_solution.as_symbols))."
   ]
  },
  {
   "cell_type": "code",
   "execution_count": 23,
   "metadata": {
    "collapsed": false
   },
   "outputs": [],
   "source": [
    "s, C1, R1, L1 = rs.as_symbols('s C1 R1 L1')\n",
    "HS = sympy.lambdify(w, Hs.subs({s:I*w, C1:2.2e-12, R1:13., L1:1e-6}))"
   ]
  },
  {
   "cell_type": "markdown",
   "metadata": {},
   "source": [
    "Did we get the same results, let's sat within a 1dB accuracy?"
   ]
  },
  {
   "cell_type": "code",
   "execution_count": 24,
   "metadata": {
    "collapsed": false
   },
   "outputs": [
    {
     "data": {
      "text/plain": [
       "True"
      ]
     },
     "execution_count": 24,
     "metadata": {},
     "output_type": "execute_result"
    }
   ],
   "source": [
    "np.allclose(dB20(abs(HS(rac.get_x()))), dB20(abs(Hl(rac.get_x()))), atol=1)"
   ]
  },
  {
   "cell_type": "markdown",
   "metadata": {},
   "source": [
    "Good.\n",
    "\n",
    "## 5. Conclusions\n",
    "\n",
    "Let's take a look at PZ, AC and symbolic results together:"
   ]
  },
  {
   "cell_type": "code",
   "execution_count": 37,
   "metadata": {
    "collapsed": false
   },
   "outputs": [
    {
     "data": {
      "image/png": "[encoded data removed]",
      "text/plain": [
       "<matplotlib.figure.Figure at 0x10e2ed590>"
      ]
     },
     "metadata": {},
     "output_type": "display_data"
    }
   ],
   "source": [
    "figure(figsize=figsize);  title('Series RLC passband: TFs compared')\n",
    "semilogx(rac.get_x()/2/np.pi, dB20(abs(rac['vout'])), label='TF from AC analysis')\n",
    "semilogx(rac.get_x()/2/np.pi, dB20(abs(Hl(rac.get_x()))), 'o', ms=4, label='TF from PZ analysis')\n",
    "semilogx(rac.get_x()/2/np.pi, dB20(abs(HS(rac.get_x()))), '-', lw=10, alpha=.2, label='TF from symbolic analysis')\n",
    "vlines(1.07297e+08, *gca().get_ylim(), alpha=.4)\n",
    "text(7e8/2/np.pi, -45, '$f_d = 107.297\\\\, \\\\mathrm{MHz}$', fontsize=20)\n",
    "legend(); xlabel('Frequency [Hz]'); ylabel('|H(w)| [dB]'); xlim(4e7, 3e8); ylim(-50, 1);"
   ]
  },
  {
   "cell_type": "markdown",
   "metadata": {},
   "source": [
    "I hope this example helped show how to use [ahkab](https://ahkab.github.io/ahkab/) and in particular how to perform PZ, AC and symbolic analysis. If it also cleared up some doubts, great!\n",
    "\n",
    "Please remember this is an experimental simulator and you may find bug... it's getting better bu we're not really ready for prime time yet: please report any and all bugs you may encounter on [the issue tracker](https://github.com/ahkab/ahkab/issues)."
   ]
  },
  {
   "cell_type": "code",
   "execution_count": null,
   "metadata": {
    "collapsed": true
   },
   "outputs": [],
   "source": []
  }
 ],
 "metadata": {
  "kernelspec": {
   "display_name": "Python 2",
   "language": "python",
   "name": "python2"
  },
  "language_info": {
   "codemirror_mode": {
    "name": "ipython",
    "version": 2
   },
   "file_extension": ".py",
   "mimetype": "text/x-python",
   "name": "python",
   "nbconvert_exporter": "python",
   "pygments_lexer": "ipython2",
   "version": "2.7.9"
  }
 },
 "nbformat": 4,
 "nbformat_minor": 0
}
